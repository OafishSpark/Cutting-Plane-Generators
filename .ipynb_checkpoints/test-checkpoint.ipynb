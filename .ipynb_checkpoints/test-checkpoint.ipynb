{
 "cells": [
  {
   "cell_type": "code",
   "execution_count": 4,
   "id": "2e857378-61d1-4972-ab13-9e2e9e5aaf4b",
   "metadata": {},
   "outputs": [
    {
     "ename": "ModuleNotFoundError",
     "evalue": "No module named 'matplotlib'",
     "output_type": "error",
     "traceback": [
      "\u001b[0;31m---------------------------------------------------------------------------\u001b[0m",
      "\u001b[0;31mModuleNotFoundError\u001b[0m                       Traceback (most recent call last)",
      "Cell \u001b[0;32mIn[4], line 3\u001b[0m\n\u001b[1;32m      1\u001b[0m \u001b[38;5;66;03m# notebook for visualizing plane MILP results\u001b[39;00m\n\u001b[0;32m----> 3\u001b[0m \u001b[38;5;28;01mimport\u001b[39;00m \u001b[38;5;21;01mmatplotlib\u001b[39;00m\u001b[38;5;21;01m.\u001b[39;00m\u001b[38;5;21;01mpyplot\u001b[39;00m \u001b[38;5;28;01mas\u001b[39;00m \u001b[38;5;21;01mplt\u001b[39;00m\n\u001b[1;32m      4\u001b[0m \u001b[38;5;28;01mimport\u001b[39;00m \u001b[38;5;21;01mnumpy\u001b[39;00m \u001b[38;5;28;01mas\u001b[39;00m \u001b[38;5;21;01mnp\u001b[39;00m\n\u001b[1;32m      6\u001b[0m \u001b[38;5;28;01mfrom\u001b[39;00m \u001b[38;5;21;01mIPython\u001b[39;00m\u001b[38;5;21;01m.\u001b[39;00m\u001b[38;5;21;01mdisplay\u001b[39;00m \u001b[38;5;28;01mimport\u001b[39;00m clear_output\n",
      "\u001b[0;31mModuleNotFoundError\u001b[0m: No module named 'matplotlib'"
     ]
    }
   ],
   "source": [
    "# notebook for visualizing plane MILP results\n",
    "\n",
    "import matplotlib.pyplot as plt\n",
    "import numpy as np\n",
    "\n",
    "from IPython.display import clear_output"
   ]
  },
  {
   "cell_type": "code",
   "execution_count": 3,
   "id": "8b5f5022-bacc-4656-a30c-938475721390",
   "metadata": {},
   "outputs": [
    {
     "name": "stdout",
     "output_type": "stream",
     "text": [
      "0.0\n",
      "5.0000000000000005e-17\n"
     ]
    }
   ],
   "source": [
    "x = 10e-9\n",
    "s = (1 + x**2)**(1/2) - 1\n",
    "print(s)\n",
    "s1 = x**2 / ((1 + x**2)**(1/2) + 1)\n",
    "print(s1)"
   ]
  },
  {
   "cell_type": "code",
   "execution_count": 5,
   "id": "14d647ea-5ac1-4241-b590-d9ff36cb2418",
   "metadata": {},
   "outputs": [
    {
     "ename": "ModuleNotFoundError",
     "evalue": "No module named 'pytest'",
     "output_type": "error",
     "traceback": [
      "\u001b[0;31m---------------------------------------------------------------------------\u001b[0m",
      "\u001b[0;31mModuleNotFoundError\u001b[0m                       Traceback (most recent call last)",
      "Cell \u001b[0;32mIn[5], line 1\u001b[0m\n\u001b[0;32m----> 1\u001b[0m \u001b[38;5;28;01mimport\u001b[39;00m \u001b[38;5;21;01mpytest\u001b[39;00m\n",
      "\u001b[0;31mModuleNotFoundError\u001b[0m: No module named 'pytest'"
     ]
    }
   ],
   "source": [
    "import pytest\n"
   ]
  },
  {
   "cell_type": "code",
   "execution_count": 2,
   "id": "151dbcca-f89d-41e7-abff-79f463942e96",
   "metadata": {},
   "outputs": [],
   "source": [
    "!rm ./files/b-inv.txt\n",
    "!python3 ./b-inv-part/main.py ./files/plane.lp >> ./files/b-inv.txt"
   ]
  },
  {
   "cell_type": "code",
   "execution_count": 3,
   "id": "a3c36949-30c8-45e7-8f15-43da01ea72ff",
   "metadata": {},
   "outputs": [
    {
     "data": {
      "image/png": "[encoded data removed]",
      "text/plain": [
       "<Figure size 640x480 with 1 Axes>"
      ]
     },
     "metadata": {},
     "output_type": "display_data"
    }
   ],
   "source": [
    "from pysmps import smps_loader as mps\n",
    "from pyscipopt import LP\n",
    "\n",
    "\n",
    "signs = mps.load_mps(\"./files/plane.mps\")[5]\n",
    "obj = mps.load_mps(\"./files/plane.mps\")[6]\n",
    "a_matrix = mps.load_mps(\"./files/plane.mps\")[7]\n",
    "rhs = mps.load_mps(\"./files/plane.mps\")[9]['RHS']\n",
    "\n",
    "constraints = zip(signs, a_matrix, rhs)\n",
    "\n",
    "x = np.array([-10 + 0.1 * i for i in range(0, 1001)])\n",
    "\n",
    "fig = plt.figure()\n",
    "ax = fig.add_subplot(1, 1, 1)\n",
    "ax.grid(which='both', clip_on=False)\n",
    "ax.set_ylim(-5, 20)\n",
    "ax.set_xlim(-5, 20)\n",
    "\n",
    "major_ticks = np.arange(-5, 21, 5)\n",
    "minor_ticks = np.arange(-4, 21, 1)\n",
    "\n",
    "ax.set_xticks(major_ticks)\n",
    "ax.set_xticks(minor_ticks, minor=True)\n",
    "ax.set_yticks(major_ticks)\n",
    "ax.set_yticks(minor_ticks, minor=True)\n",
    "\n",
    "for sign, row, rhs in constraints:\n",
    "    if row[1] != 0:\n",
    "        y = (rhs - row[0] * x) / row[1]\n",
    "    else:\n",
    "        y = np.array([-10 + 0.1 * i for i in range(0, 1001)])\n",
    "        x = np.ones(len(y)) * rhs / row[0]\n",
    "    ax.plot(x, y, 'darkorange')\n",
    "\n",
    "lp = LP()\n",
    "lp.readLP(b\"./files/plane.mps\")\n",
    "lp.solve()\n",
    "x_r, y_r = lp.getPrimal()\n",
    "\n",
    "ax.plot(x_r, y_r, 'ob')\n",
    "\n",
    "V = np.array(-obj)\n",
    "origin = np.array([[x_r],[y_r]])\n",
    "\n",
    "ax.quiver(*origin, V[0], V[1], color=['b'], scale=100, clip_on=False)\n",
    "\n",
    "plt.show()"
   ]
  },
  {
   "cell_type": "code",
   "execution_count": 4,
   "id": "8e65298e-d6c9-401b-8e38-225ba008e72a",
   "metadata": {},
   "outputs": [
    {
     "name": "stdout",
     "output_type": "stream",
     "text": [
      "original problem has 2 variables (0 bin, 2 int, 0 impl, 0 cont) and 2 constraints\n",
      "presolving:\n",
      "presolving (1 rounds: 1 fast, 1 medium, 1 exhaustive):\n",
      " 2 deleted vars, 2 deleted constraints, 0 added constraints, 14 tightened bounds, 0 added holes, 0 changed sides, 0 changed coefficients\n",
      " 0 implications, 0 cliques\n",
      "transformed 1/1 original solutions to the transformed problem space\n",
      "Presolving Time: 0.00\n",
      "\n",
      "SCIP Status        : problem is solved [optimal solution found]\n",
      "Solving Time (sec) : 0.00\n",
      "Solving Nodes      : 0\n",
      "Primal Bound       : +9.40000000000001e+00 (1 solutions)\n",
      "Dual Bound         : +9.40000000000001e+00\n",
      "Gap                : 0.00 %\n"
     ]
    }
   ],
   "source": [
    "from pyscipopt import Model\n",
    "\n",
    "milp = Model()\n",
    "milp.readProblem(\"./files/plane.lp\")\n",
    "milp.optimize()"
   ]
  },
  {
   "cell_type": "code",
   "execution_count": 5,
   "id": "4d5b13de-1602-4fd4-b0b6-18d377138f96",
   "metadata": {},
   "outputs": [],
   "source": [
    "milp_sol_x, milp_sol_y = np.array([milp.getVal(elem) for elem in milp.getVars()])"
   ]
  },
  {
   "cell_type": "code",
   "execution_count": 6,
   "id": "973ca42e-f367-4b3d-a1fc-f6921e50f540",
   "metadata": {},
   "outputs": [
    {
     "data": {
      "image/png": "[encoded data removed]",
      "text/plain": [
       "<Figure size 640x480 with 1 Axes>"
      ]
     },
     "execution_count": 6,
     "metadata": {},
     "output_type": "execute_result"
    }
   ],
   "source": [
    "ax.plot(milp_sol_x, milp_sol_y, 'ro')\n",
    "fig"
   ]
  },
  {
   "cell_type": "code",
   "execution_count": 7,
   "id": "ca1fc039-2c3c-41f9-9999-a6847c817d23",
   "metadata": {},
   "outputs": [
    {
     "name": "stdout",
     "output_type": "stream",
     "text": [
      "wrote problem to file /mnt/d/dev/Cutting-Plane-Generators/files/plane_milp.mps\n"
     ]
    },
    {
     "data": {
      "text/plain": [
       "('/mnt/d/dev/Cutting-Plane-Generators/files/plane.lp',\n",
       " 'Obj',\n",
       " ['a1', 'a2'],\n",
       " ['x', 'y'],\n",
       " ['integral', 'integral'],\n",
       " ['E', 'L'],\n",
       " array([ 11. , -13.1]),\n",
       " array([[-11.,  13.],\n",
       "        [  1.,  10.]]),\n",
       " ['RHS'],\n",
       " {'RHS': array([-10.,  90.])},\n",
       " ['Bound'],\n",
       " {'Bound': {'LO': array([1., 0.]), 'UP': array([ 9., inf])}})"
      ]
     },
     "execution_count": 7,
     "metadata": {},
     "output_type": "execute_result"
    }
   ],
   "source": [
    "milp.writeProblem(\"./files/plane_milp.mps\")\n",
    "mps.load_mps(\"./files/plane_milp.mps\")"
   ]
  },
  {
   "cell_type": "code",
   "execution_count": 8,
   "id": "a8b1dee3-8d00-4424-a787-77f67eb735f0",
   "metadata": {},
   "outputs": [
    {
     "data": {
      "text/plain": [
       "[1, -2]"
      ]
     },
     "execution_count": 8,
     "metadata": {},
     "output_type": "execute_result"
    }
   ],
   "source": [
    "lp.getBasisInds()"
   ]
  },
  {
   "cell_type": "code",
   "execution_count": 10,
   "id": "4260cf08-ed8a-4ca8-9aec-459c93029119",
   "metadata": {},
   "outputs": [
    {
     "data": {
      "text/plain": [
       "([-10.0, -1e+100], [-10.0, 90.0])"
      ]
     },
     "execution_count": 10,
     "metadata": {},
     "output_type": "execute_result"
    }
   ],
   "source": [
    "lp.getSides()"
   ]
  },
  {
   "cell_type": "code",
   "execution_count": 15,
   "id": "a213f0b6-4f8d-4c4c-8eba-185700260898",
   "metadata": {},
   "outputs": [
    {
     "data": {
      "text/plain": [
       "array([[1., 1., 1., 1., 0.],\n",
       "       [1., 1., 1., 0., 1.]])"
      ]
     },
     "execution_count": 15,
     "metadata": {},
     "output_type": "execute_result"
    }
   ],
   "source": [
    "np.concatenate((np.ones((2, 3)), np.eye(a_matrix.shape[0])), axis=1)"
   ]
  },
  {
   "cell_type": "code",
   "execution_count": 17,
   "id": "ca9f2d07-edf3-4db3-8c5f-365da4f75d11",
   "metadata": {},
   "outputs": [
    {
     "data": {
      "text/plain": [
       "{'LO': array([1., 0.]), 'UP': array([ 9., inf])}"
      ]
     },
     "execution_count": 17,
     "metadata": {},
     "output_type": "execute_result"
    }
   ],
   "source": [
    "mps.load_mps(\"./files/plane.mps\")[11]['BOUND']"
   ]
  },
  {
   "cell_type": "code",
   "execution_count": null,
   "id": "34296d8e-6a26-4816-b6d1-5b334a3a85f2",
   "metadata": {},
   "outputs": [],
   "source": []
  }
 ],
 "metadata": {
  "kernelspec": {
   "display_name": "Python 3 (ipykernel)",
   "language": "python",
   "name": "python3"
  },
  "language_info": {
   "codemirror_mode": {
    "name": "ipython",
    "version": 3
   },
   "file_extension": ".py",
   "mimetype": "text/x-python",
   "name": "python",
   "nbconvert_exporter": "python",
   "pygments_lexer": "ipython3",
   "version": "3.10.13"
  }
 },
 "nbformat": 4,
 "nbformat_minor": 5
}
